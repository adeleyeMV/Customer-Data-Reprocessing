{
 "cells": [
  {
   "cell_type": "markdown",
   "id": "a263e3f7",
   "metadata": {},
   "source": [
    "# Task 1"
   ]
  },
  {
   "cell_type": "code",
   "execution_count": 8,
   "id": "6a0651c0",
   "metadata": {},
   "outputs": [],
   "source": [
    "import csv"
   ]
  },
  {
   "cell_type": "code",
   "execution_count": 9,
   "id": "eb881065",
   "metadata": {},
   "outputs": [],
   "source": [
    "vehicles = {('Vehicle Make'), ('Vehicle Model'), ('Vehicle Year'), ('Vehicle Type')}\n",
    "ccard = {('Credit Card Start Date'), ('Credit Card Expiry Date'), ('Credit Card Number'), ('Credit Card CVV'), ('Bank IBAN')}\n",
    "address = {('Address Street'), ('Address City',), ('Address Postcode')}\n",
    "work = {('Yearly Pension (Â£)'), ('Retired'), ('Yearly Salary (Â£)',), ('Distance Commuted to Work (miles)'), ('Employer Company')}\n",
    "personal = {('Age (Years)'),  ('Dependants'), ('First Name'), ('Last Name'), ('Marital Status'), ('Sex')}"
   ]
  },
  {
   "cell_type": "code",
   "execution_count": 10,
   "id": "0c2c38b7",
   "metadata": {},
   "outputs": [],
   "source": [
    "\n",
    "#cast these attributes to thier data types\n",
    "\n",
    "vehicles = {('Vehicle Make', str), ('Vehicle Model', str), ('Vehicle Year', int), ('Vehicle Type', str)}\n",
    "ccard = {('Credit Card Start Date', str), ('Credit Card Expiry Date', str), ('Credit Card Number', str), ('Credit Card CVV', int), ('Bank IBAN', str)}\n",
    "address = {('Address Street', str), ('Address City', str), ('Address Postcode', str)}\n",
    "work = {('Yearly Pension (Â£)', int), ('Retired', lambda val: True if val=='True' else False), ('Yearly Salary (Â£)', int), ('Distance Commuted to Work (miles)', float), ('Employer Company', str)}\n",
    "personal = {('Age (Years)', int),  ('Dependants', lambda val: None if val.strip()=='' else int(val)), ('First Name', str), ('Last Name', str), ('Marital Status', str), ('Sex', str)}"
   ]
  },
  {
   "cell_type": "markdown",
   "id": "6dd44cf4",
   "metadata": {},
   "source": [
    "# Task 2"
   ]
  },
  {
   "cell_type": "code",
   "execution_count": 11,
   "id": "7ef99938",
   "metadata": {},
   "outputs": [
    {
     "name": "stdout",
     "output_type": "stream",
     "text": [
      "[{'vehicle': {'Vehicle Type': 'Pickup', 'Vehicle Make': 'Hyundai', 'Vehicle Year': 2009, 'Vehicle Model': 'Bonneville'}, 'ccard': {'Credit Card CVV': 875, 'Bank IBAN': 'GB62PQKB71416034141571', 'Credit Card Expiry Date': '11/27', 'Credit Card Start Date': '08/18', 'Credit Card Number': '676373692463'}, 'address': {'Address Postcode': 'S71 7XZ', 'Address City': 'Lake Conor', 'Address Street': '70 Lydia isle'}, 'work': {'Yearly Pension (Â£)': 7257, 'Yearly Salary (Â£)': 72838, 'Employer Company': 'N/A', 'Retired': True, 'Distance Commuted to Work (miles)': 0.0}, 'personal': {'Age (Years)': 89, 'Dependants': 3, 'First Name': 'Kieran', 'Marital Status': 'married or civil partner', 'Sex': 'Male', 'Last Name': 'Wilson'}}, {'vehicle': {'Vehicle Type': 'Coupe', 'Vehicle Make': 'Nissan', 'Vehicle Year': 1996, 'Vehicle Model': 'ATS'}, 'ccard': {'Credit Card CVV': 583, 'Bank IBAN': 'GB37UMCO54540228728019', 'Credit Card Expiry Date': '11/26', 'Credit Card Start Date': '08/12', 'Credit Card Number': '4529436854129855'}, 'address': {'Address Postcode': 'L2 7BT', 'Address City': 'Chapmanton', 'Address Street': '00 Wheeler wells'}, 'work': {'Yearly Pension (Â£)': 0, 'Yearly Salary (Â£)': 54016, 'Employer Company': 'Begum-Williams', 'Retired': False, 'Distance Commuted to Work (miles)': 13.72}, 'personal': {'Age (Years)': 46, 'Dependants': 1, 'First Name': 'Jonathan', 'Marital Status': 'married or civil partner', 'Sex': 'Male', 'Last Name': 'Thomas'}}, {'vehicle': {'Vehicle Type': 'Convertible, Coupe', 'Vehicle Make': 'GMC', 'Vehicle Year': 2015, 'Vehicle Model': 'Achieva'}, 'ccard': {'Credit Card CVV': 422, 'Bank IBAN': 'GB40CVUE84011545859591', 'Credit Card Expiry Date': '07/27', 'Credit Card Start Date': '11/19', 'Credit Card Number': '4091726363083888495'}, 'address': {'Address Postcode': 'ME3N 1GH', 'Address City': 'Randallborough', 'Address Street': 'Studio 33K Joel walk'}, 'work': {'Yearly Pension (Â£)': 0, 'Yearly Salary (Â£)': 68049, 'Employer Company': 'Hill-Wright', 'Retired': False, 'Distance Commuted to Work (miles)': 16.02}, 'personal': {'Age (Years)': 22, 'Dependants': 1, 'First Name': 'Antony', 'Marital Status': 'married or civil partner', 'Sex': 'Male', 'Last Name': 'Jones'}}]\n"
     ]
    }
   ],
   "source": [
    "file = 'acw_user_data.csv'\n",
    "\n",
    "def ext_attrs(attr_batch):\n",
    "    return {attr:dtype(row[attr]) for attr, dtype in attr_batch}\n",
    "\n",
    "\n",
    "with open(file) as f:\n",
    "    csv_obj = csv.DictReader(f)\n",
    "    \n",
    "    processed_json = []\n",
    "    for row in csv_obj:\n",
    "        rich_row = {\n",
    "            'vehicle':ext_attrs(vehicles),\n",
    "            'ccard':ext_attrs(ccard),\n",
    "            'address':ext_attrs(address),\n",
    "            'work':ext_attrs(work),\n",
    "            'personal':ext_attrs(personal)\n",
    "        }\n",
    "\n",
    "        processed_json.append(rich_row)\n",
    "\n",
    "    print(processed_json[:3])"
   ]
  },
  {
   "cell_type": "markdown",
   "id": "ab09d9a0",
   "metadata": {},
   "source": [
    "# Task 3"
   ]
  },
  {
   "cell_type": "code",
   "execution_count": 12,
   "id": "e3486aa2",
   "metadata": {},
   "outputs": [
    {
     "name": "stdout",
     "output_type": "stream",
     "text": [
      "Problematic rows for dependants: [23, 111, 181, 207, 272, 274, 276, 360, 462, 470, 581, 638, 681, 727, 824, 867, 919, 933, 985]\n"
     ]
    }
   ],
   "source": [
    "err_list = [index for index, row in enumerate(processed_json, 2) if row['personal']['Dependants'] is None]\n",
    "print(f\"Problematic rows for dependants: {err_list}\")"
   ]
  },
  {
   "cell_type": "markdown",
   "id": "dec74af1",
   "metadata": {},
   "source": [
    "# Task 4"
   ]
  },
  {
   "cell_type": "code",
   "execution_count": 13,
   "id": "09b775ea",
   "metadata": {},
   "outputs": [],
   "source": [
    "#Write all records to a processed.json file in the JSON data format. This should be a list of dictionaries, where each index of the list is a dictionary representing a singular person."
   ]
  },
  {
   "cell_type": "code",
   "execution_count": 14,
   "id": "bf1e32a1",
   "metadata": {},
   "outputs": [],
   "source": [
    "import json\n",
    "\n",
    "with open('processed.json', 'w') as f:\n",
    "    json.dump(processed_json, f)"
   ]
  },
  {
   "cell_type": "markdown",
   "id": "d984c99d",
   "metadata": {},
   "source": [
    "# Task 5"
   ]
  },
  {
   "cell_type": "code",
   "execution_count": 15,
   "id": "2fc1d669",
   "metadata": {},
   "outputs": [],
   "source": [
    "employed_json = [row for row in processed_json if not row['work']['Retired']]\n",
    "retired_json = [row for row in processed_json if row['work']['Retired']]\n",
    "\n",
    "with open('retired.json', 'w') as retired_file, open('employed.json','w') as employed_file:\n",
    "    json.dump(retired_json, retired_file), json.dump(employed_json, employed_file)"
   ]
  },
  {
   "cell_type": "markdown",
   "id": "05deedd3",
   "metadata": {},
   "source": [
    "# Task 6"
   ]
  },
  {
   "cell_type": "code",
   "execution_count": 18,
   "id": "004995c4",
   "metadata": {},
   "outputs": [],
   "source": [
    "#remove_ccard.json\n",
    "# remove_ccard.json\n",
    "def is_ccard_correct(row):\n",
    "    return int(row['ccard']['Credit Card Expiry Date'][3:]) - int(row['ccard']['Credit Card Start Date'][3:]) > 10\n",
    "remove_ccard_json = [row for row in processed_json if is_ccard_correct(row)]\n",
    "with open('remove_ccard.json', 'w') as f:\n",
    "    json.dump(remove_ccard_json, f)"
   ]
  },
  {
   "cell_type": "markdown",
   "id": "60dde991",
   "metadata": {},
   "source": [
    "# Task 7"
   ]
  },
  {
   "cell_type": "code",
   "execution_count": 20,
   "id": "50817a81",
   "metadata": {},
   "outputs": [],
   "source": [
    "#salary commute\n",
    "\n",
    "def salary_com(row):\n",
    "    commute = row['work']['Distance Commuted to Work (miles)']\n",
    "    \n",
    "    salary = row['work']['Yearly Salary (Â£)']\n",
    "\n",
    "    if commute <2:\n",
    "        return salary\n",
    "    return salary/commute\n",
    "\n",
    "for row in processed_json:\n",
    "    row['work']['Salary-Commute'] = salary_com(row)\n",
    "    \n",
    "sort_key = lambda row: row['work']['Salary-Commute']\n",
    "processed_json.sort(key=sort_key)\n",
    "with open('commute.json', 'w') as f:\n",
    "    json.dump(processed_json, f)"
   ]
  },
  {
   "cell_type": "markdown",
   "id": "76946602",
   "metadata": {},
   "source": [
    "# PART B- DATA VISUALIZATION"
   ]
  },
  {
   "cell_type": "markdown",
   "id": "593faba5",
   "metadata": {},
   "source": [
    "# TASK 1"
   ]
  },
  {
   "cell_type": "code",
   "execution_count": 22,
   "id": "699a37d4",
   "metadata": {},
   "outputs": [],
   "source": [
    "import pandas as pd\n",
    "import seaborn as sns"
   ]
  },
  {
   "cell_type": "code",
   "execution_count": 24,
   "id": "a9f785ae",
   "metadata": {},
   "outputs": [],
   "source": [
    "df = pd.read_csv('acw_user_data.csv')\n"
   ]
  },
  {
   "cell_type": "code",
   "execution_count": 25,
   "id": "2b2fdffd",
   "metadata": {
    "scrolled": true
   },
   "outputs": [
    {
     "data": {
      "text/html": [
       "<div>\n",
       "<style scoped>\n",
       "    .dataframe tbody tr th:only-of-type {\n",
       "        vertical-align: middle;\n",
       "    }\n",
       "\n",
       "    .dataframe tbody tr th {\n",
       "        vertical-align: top;\n",
       "    }\n",
       "\n",
       "    .dataframe thead th {\n",
       "        text-align: right;\n",
       "    }\n",
       "</style>\n",
       "<table border=\"1\" class=\"dataframe\">\n",
       "  <thead>\n",
       "    <tr style=\"text-align: right;\">\n",
       "      <th></th>\n",
       "      <th>Address Street</th>\n",
       "      <th>Address City</th>\n",
       "      <th>Address Postcode</th>\n",
       "      <th>Age (Years)</th>\n",
       "      <th>Distance Commuted to Work (miles)</th>\n",
       "      <th>Employer Company</th>\n",
       "      <th>Credit Card Start Date</th>\n",
       "      <th>Credit Card Expiry Date</th>\n",
       "      <th>Credit Card Number</th>\n",
       "      <th>Credit Card CVV</th>\n",
       "      <th>...</th>\n",
       "      <th>Last Name</th>\n",
       "      <th>Marital Status</th>\n",
       "      <th>Yearly Pension (£)</th>\n",
       "      <th>Retired</th>\n",
       "      <th>Yearly Salary (£)</th>\n",
       "      <th>Sex</th>\n",
       "      <th>Vehicle Make</th>\n",
       "      <th>Vehicle Model</th>\n",
       "      <th>Vehicle Year</th>\n",
       "      <th>Vehicle Type</th>\n",
       "    </tr>\n",
       "  </thead>\n",
       "  <tbody>\n",
       "    <tr>\n",
       "      <th>0</th>\n",
       "      <td>70 Lydia isle</td>\n",
       "      <td>Lake Conor</td>\n",
       "      <td>S71 7XZ</td>\n",
       "      <td>89</td>\n",
       "      <td>0.00</td>\n",
       "      <td>NaN</td>\n",
       "      <td>08/18</td>\n",
       "      <td>11/27</td>\n",
       "      <td>676373692463</td>\n",
       "      <td>875</td>\n",
       "      <td>...</td>\n",
       "      <td>Wilson</td>\n",
       "      <td>married or civil partner</td>\n",
       "      <td>7257</td>\n",
       "      <td>True</td>\n",
       "      <td>72838</td>\n",
       "      <td>Male</td>\n",
       "      <td>Hyundai</td>\n",
       "      <td>Bonneville</td>\n",
       "      <td>2009</td>\n",
       "      <td>Pickup</td>\n",
       "    </tr>\n",
       "    <tr>\n",
       "      <th>1</th>\n",
       "      <td>00 Wheeler wells</td>\n",
       "      <td>Chapmanton</td>\n",
       "      <td>L2 7BT</td>\n",
       "      <td>46</td>\n",
       "      <td>13.72</td>\n",
       "      <td>Begum-Williams</td>\n",
       "      <td>08/12</td>\n",
       "      <td>11/26</td>\n",
       "      <td>4529436854129855</td>\n",
       "      <td>583</td>\n",
       "      <td>...</td>\n",
       "      <td>Thomas</td>\n",
       "      <td>married or civil partner</td>\n",
       "      <td>0</td>\n",
       "      <td>False</td>\n",
       "      <td>54016</td>\n",
       "      <td>Male</td>\n",
       "      <td>Nissan</td>\n",
       "      <td>ATS</td>\n",
       "      <td>1996</td>\n",
       "      <td>Coupe</td>\n",
       "    </tr>\n",
       "    <tr>\n",
       "      <th>2</th>\n",
       "      <td>Studio 33K Joel walk</td>\n",
       "      <td>Randallborough</td>\n",
       "      <td>ME3N 1GH</td>\n",
       "      <td>22</td>\n",
       "      <td>16.02</td>\n",
       "      <td>Hill-Wright</td>\n",
       "      <td>11/19</td>\n",
       "      <td>07/27</td>\n",
       "      <td>4091726363083888495</td>\n",
       "      <td>422</td>\n",
       "      <td>...</td>\n",
       "      <td>Jones</td>\n",
       "      <td>married or civil partner</td>\n",
       "      <td>0</td>\n",
       "      <td>False</td>\n",
       "      <td>68049</td>\n",
       "      <td>Male</td>\n",
       "      <td>GMC</td>\n",
       "      <td>Achieva</td>\n",
       "      <td>2015</td>\n",
       "      <td>Convertible, Coupe</td>\n",
       "    </tr>\n",
       "    <tr>\n",
       "      <th>3</th>\n",
       "      <td>Studio 46S Bethany lights</td>\n",
       "      <td>East Reece</td>\n",
       "      <td>E10 9RJ</td>\n",
       "      <td>56</td>\n",
       "      <td>19.35</td>\n",
       "      <td>Green LLC</td>\n",
       "      <td>10/17</td>\n",
       "      <td>04/18</td>\n",
       "      <td>4671332769487632633</td>\n",
       "      <td>669</td>\n",
       "      <td>...</td>\n",
       "      <td>Shaw</td>\n",
       "      <td>married or civil partner</td>\n",
       "      <td>0</td>\n",
       "      <td>False</td>\n",
       "      <td>91337</td>\n",
       "      <td>Male</td>\n",
       "      <td>Scion</td>\n",
       "      <td>F150 SuperCrew Cab</td>\n",
       "      <td>1994</td>\n",
       "      <td>Pickup</td>\n",
       "    </tr>\n",
       "    <tr>\n",
       "      <th>4</th>\n",
       "      <td>Flat 3 Christine views</td>\n",
       "      <td>Fletcherstad</td>\n",
       "      <td>WS2 9SN</td>\n",
       "      <td>57</td>\n",
       "      <td>5.94</td>\n",
       "      <td>Hill, Evans and Harrison</td>\n",
       "      <td>04/19</td>\n",
       "      <td>11/27</td>\n",
       "      <td>2245094149128526</td>\n",
       "      <td>659</td>\n",
       "      <td>...</td>\n",
       "      <td>O'Brien</td>\n",
       "      <td>married or civil partner</td>\n",
       "      <td>0</td>\n",
       "      <td>False</td>\n",
       "      <td>18446</td>\n",
       "      <td>Female</td>\n",
       "      <td>Buick</td>\n",
       "      <td>Outback</td>\n",
       "      <td>2020</td>\n",
       "      <td>SUV</td>\n",
       "    </tr>\n",
       "    <tr>\n",
       "      <th>...</th>\n",
       "      <td>...</td>\n",
       "      <td>...</td>\n",
       "      <td>...</td>\n",
       "      <td>...</td>\n",
       "      <td>...</td>\n",
       "      <td>...</td>\n",
       "      <td>...</td>\n",
       "      <td>...</td>\n",
       "      <td>...</td>\n",
       "      <td>...</td>\n",
       "      <td>...</td>\n",
       "      <td>...</td>\n",
       "      <td>...</td>\n",
       "      <td>...</td>\n",
       "      <td>...</td>\n",
       "      <td>...</td>\n",
       "      <td>...</td>\n",
       "      <td>...</td>\n",
       "      <td>...</td>\n",
       "      <td>...</td>\n",
       "      <td>...</td>\n",
       "    </tr>\n",
       "    <tr>\n",
       "      <th>995</th>\n",
       "      <td>Studio 6 Heather prairie</td>\n",
       "      <td>North Amelia</td>\n",
       "      <td>E9 0HB</td>\n",
       "      <td>48</td>\n",
       "      <td>18.44</td>\n",
       "      <td>Phillips-Pope</td>\n",
       "      <td>04/19</td>\n",
       "      <td>08/26</td>\n",
       "      <td>3563802099155576</td>\n",
       "      <td>908</td>\n",
       "      <td>...</td>\n",
       "      <td>Clark</td>\n",
       "      <td>married or civil partner</td>\n",
       "      <td>0</td>\n",
       "      <td>False</td>\n",
       "      <td>84645</td>\n",
       "      <td>Male</td>\n",
       "      <td>Saturn</td>\n",
       "      <td>Convertible</td>\n",
       "      <td>2015</td>\n",
       "      <td>Van/Minivan</td>\n",
       "    </tr>\n",
       "    <tr>\n",
       "      <th>996</th>\n",
       "      <td>Flat 3 Davies run</td>\n",
       "      <td>Greenshire</td>\n",
       "      <td>E7 4UJ</td>\n",
       "      <td>22</td>\n",
       "      <td>19.61</td>\n",
       "      <td>Hughes LLC</td>\n",
       "      <td>05/12</td>\n",
       "      <td>07/28</td>\n",
       "      <td>3591311819315276</td>\n",
       "      <td>675</td>\n",
       "      <td>...</td>\n",
       "      <td>Jones</td>\n",
       "      <td>married or civil partner</td>\n",
       "      <td>0</td>\n",
       "      <td>False</td>\n",
       "      <td>93314</td>\n",
       "      <td>Female</td>\n",
       "      <td>Toyota</td>\n",
       "      <td>Yukon</td>\n",
       "      <td>2015</td>\n",
       "      <td>Van/Minivan</td>\n",
       "    </tr>\n",
       "    <tr>\n",
       "      <th>997</th>\n",
       "      <td>Flat 7 Barber motorway</td>\n",
       "      <td>Burrowsshire</td>\n",
       "      <td>L62 8TA</td>\n",
       "      <td>38</td>\n",
       "      <td>6.66</td>\n",
       "      <td>Bailey Group</td>\n",
       "      <td>01/13</td>\n",
       "      <td>05/29</td>\n",
       "      <td>3584931475767707</td>\n",
       "      <td>679</td>\n",
       "      <td>...</td>\n",
       "      <td>Walker</td>\n",
       "      <td>single</td>\n",
       "      <td>0</td>\n",
       "      <td>False</td>\n",
       "      <td>20940</td>\n",
       "      <td>Female</td>\n",
       "      <td>Ford</td>\n",
       "      <td>S6</td>\n",
       "      <td>2020</td>\n",
       "      <td>Sedan</td>\n",
       "    </tr>\n",
       "    <tr>\n",
       "      <th>998</th>\n",
       "      <td>00 Tony forks</td>\n",
       "      <td>Abbiebury</td>\n",
       "      <td>NP4 1JL</td>\n",
       "      <td>45</td>\n",
       "      <td>18.13</td>\n",
       "      <td>Foster-Price</td>\n",
       "      <td>04/19</td>\n",
       "      <td>05/23</td>\n",
       "      <td>4090311300716168</td>\n",
       "      <td>775</td>\n",
       "      <td>...</td>\n",
       "      <td>Thomson</td>\n",
       "      <td>married or civil partner</td>\n",
       "      <td>0</td>\n",
       "      <td>False</td>\n",
       "      <td>82412</td>\n",
       "      <td>Male</td>\n",
       "      <td>Scion</td>\n",
       "      <td>Ram 1500 Quad Cab</td>\n",
       "      <td>2015</td>\n",
       "      <td>Pickup</td>\n",
       "    </tr>\n",
       "    <tr>\n",
       "      <th>999</th>\n",
       "      <td>Flat 9 Mohamed route</td>\n",
       "      <td>West Glen</td>\n",
       "      <td>LL3M 4WS</td>\n",
       "      <td>80</td>\n",
       "      <td>0.00</td>\n",
       "      <td>NaN</td>\n",
       "      <td>12/14</td>\n",
       "      <td>01/16</td>\n",
       "      <td>180020306382110</td>\n",
       "      <td>903</td>\n",
       "      <td>...</td>\n",
       "      <td>Russell</td>\n",
       "      <td>single</td>\n",
       "      <td>22869</td>\n",
       "      <td>True</td>\n",
       "      <td>25788</td>\n",
       "      <td>Female</td>\n",
       "      <td>Geo</td>\n",
       "      <td>S7</td>\n",
       "      <td>1993</td>\n",
       "      <td>Van/Minivan</td>\n",
       "    </tr>\n",
       "  </tbody>\n",
       "</table>\n",
       "<p>1000 rows × 23 columns</p>\n",
       "</div>"
      ],
      "text/plain": [
       "                Address Street    Address City Address Postcode  Age (Years)  \\\n",
       "0                70 Lydia isle      Lake Conor          S71 7XZ           89   \n",
       "1             00 Wheeler wells      Chapmanton           L2 7BT           46   \n",
       "2         Studio 33K Joel walk  Randallborough         ME3N 1GH           22   \n",
       "3    Studio 46S Bethany lights      East Reece          E10 9RJ           56   \n",
       "4       Flat 3 Christine views    Fletcherstad          WS2 9SN           57   \n",
       "..                         ...             ...              ...          ...   \n",
       "995   Studio 6 Heather prairie    North Amelia           E9 0HB           48   \n",
       "996          Flat 3 Davies run      Greenshire           E7 4UJ           22   \n",
       "997     Flat 7 Barber motorway    Burrowsshire          L62 8TA           38   \n",
       "998              00 Tony forks       Abbiebury          NP4 1JL           45   \n",
       "999       Flat 9 Mohamed route       West Glen         LL3M 4WS           80   \n",
       "\n",
       "     Distance Commuted to Work (miles)          Employer Company  \\\n",
       "0                                 0.00                       NaN   \n",
       "1                                13.72            Begum-Williams   \n",
       "2                                16.02               Hill-Wright   \n",
       "3                                19.35                 Green LLC   \n",
       "4                                 5.94  Hill, Evans and Harrison   \n",
       "..                                 ...                       ...   \n",
       "995                              18.44             Phillips-Pope   \n",
       "996                              19.61                Hughes LLC   \n",
       "997                               6.66              Bailey Group   \n",
       "998                              18.13              Foster-Price   \n",
       "999                               0.00                       NaN   \n",
       "\n",
       "    Credit Card Start Date Credit Card Expiry Date   Credit Card Number  \\\n",
       "0                    08/18                   11/27         676373692463   \n",
       "1                    08/12                   11/26     4529436854129855   \n",
       "2                    11/19                   07/27  4091726363083888495   \n",
       "3                    10/17                   04/18  4671332769487632633   \n",
       "4                    04/19                   11/27     2245094149128526   \n",
       "..                     ...                     ...                  ...   \n",
       "995                  04/19                   08/26     3563802099155576   \n",
       "996                  05/12                   07/28     3591311819315276   \n",
       "997                  01/13                   05/29     3584931475767707   \n",
       "998                  04/19                   05/23     4090311300716168   \n",
       "999                  12/14                   01/16      180020306382110   \n",
       "\n",
       "     Credit Card CVV  ...  Last Name            Marital Status  \\\n",
       "0                875  ...     Wilson  married or civil partner   \n",
       "1                583  ...     Thomas  married or civil partner   \n",
       "2                422  ...      Jones  married or civil partner   \n",
       "3                669  ...       Shaw  married or civil partner   \n",
       "4                659  ...    O'Brien  married or civil partner   \n",
       "..               ...  ...        ...                       ...   \n",
       "995              908  ...      Clark  married or civil partner   \n",
       "996              675  ...      Jones  married or civil partner   \n",
       "997              679  ...     Walker                    single   \n",
       "998              775  ...    Thomson  married or civil partner   \n",
       "999              903  ...    Russell                    single   \n",
       "\n",
       "    Yearly Pension (£) Retired Yearly Salary (£)     Sex  Vehicle Make  \\\n",
       "0                 7257    True             72838    Male       Hyundai   \n",
       "1                    0   False             54016    Male        Nissan   \n",
       "2                    0   False             68049    Male           GMC   \n",
       "3                    0   False             91337    Male         Scion   \n",
       "4                    0   False             18446  Female         Buick   \n",
       "..                 ...     ...               ...     ...           ...   \n",
       "995                  0   False             84645    Male        Saturn   \n",
       "996                  0   False             93314  Female        Toyota   \n",
       "997                  0   False             20940  Female          Ford   \n",
       "998                  0   False             82412    Male         Scion   \n",
       "999              22869    True             25788  Female           Geo   \n",
       "\n",
       "          Vehicle Model Vehicle Year        Vehicle Type  \n",
       "0            Bonneville         2009              Pickup  \n",
       "1                   ATS         1996               Coupe  \n",
       "2               Achieva         2015  Convertible, Coupe  \n",
       "3    F150 SuperCrew Cab         1994              Pickup  \n",
       "4               Outback         2020                 SUV  \n",
       "..                  ...          ...                 ...  \n",
       "995         Convertible         2015         Van/Minivan  \n",
       "996               Yukon         2015         Van/Minivan  \n",
       "997                  S6         2020               Sedan  \n",
       "998   Ram 1500 Quad Cab         2015              Pickup  \n",
       "999                  S7         1993         Van/Minivan  \n",
       "\n",
       "[1000 rows x 23 columns]"
      ]
     },
     "execution_count": 25,
     "metadata": {},
     "output_type": "execute_result"
    }
   ],
   "source": [
    "df"
   ]
  },
  {
   "cell_type": "code",
   "execution_count": 26,
   "id": "f791b4c8",
   "metadata": {},
   "outputs": [
    {
     "name": "stdout",
     "output_type": "stream",
     "text": [
      "Mean Salary: 57814.078\n",
      "Median Age: 54.0\n"
     ]
    }
   ],
   "source": [
    "salary = df['Yearly Salary (£)']\n",
    "age = df['Age (Years)']\n",
    "\n",
    "print(f\"Mean Salary: {salary.mean()}\")\n",
    "print(f\"Median Age: {age.median()}\")"
   ]
  },
  {
   "cell_type": "markdown",
   "id": "1abc1ccf",
   "metadata": {},
   "source": [
    "# Task 2"
   ]
  },
  {
   "cell_type": "code",
   "execution_count": 27,
   "id": "fe510673",
   "metadata": {},
   "outputs": [
    {
     "name": "stdout",
     "output_type": "stream",
     "text": [
      "15\n"
     ]
    },
    {
     "data": {
      "text/plain": [
       "<AxesSubplot:xlabel='Age (Years)', ylabel='Count'>"
      ]
     },
     "execution_count": 27,
     "metadata": {},
     "output_type": "execute_result"
    },
    {
     "data": {
      "image/png": "[encoded data removed]",
      "text/plain": [
       "<Figure size 432x288 with 1 Axes>"
      ]
     },
     "metadata": {
      "needs_background": "light"
     },
     "output_type": "display_data"
    }
   ],
   "source": [
    "import math\n",
    "bins = math.ceil((age.max() - age.min())/5)\n",
    "print(bins)\n",
    "\n",
    "sns.histplot(x = age, bins = bins)"
   ]
  },
  {
   "cell_type": "code",
   "execution_count": 30,
   "id": "229f2907",
   "metadata": {},
   "outputs": [
    {
     "data": {
      "text/plain": [
       "<seaborn.axisgrid.FacetGrid at 0x16a72a347f0>"
      ]
     },
     "execution_count": 30,
     "metadata": {},
     "output_type": "execute_result"
    },
    {
     "data": {
      "image/png": "[encoded data removed]",
      "text/plain": [
       "<Figure size 360x360 with 1 Axes>"
      ]
     },
     "metadata": {
      "needs_background": "light"
     },
     "output_type": "display_data"
    }
   ],
   "source": [
    "sns.displot(df, x='Age (Years)', binwidth=5)"
   ]
  },
  {
   "cell_type": "code",
   "execution_count": 32,
   "id": "4d319cc2",
   "metadata": {},
   "outputs": [
    {
     "data": {
      "text/plain": [
       "<seaborn.axisgrid.FacetGrid at 0x16a7086e8f0>"
      ]
     },
     "execution_count": 32,
     "metadata": {},
     "output_type": "execute_result"
    },
    {
     "data": {
      "image/png": "[encoded data removed]",
      "text/plain": [
       "<Figure size 360x360 with 1 Axes>"
      ]
     },
     "metadata": {
      "needs_background": "light"
     },
     "output_type": "display_data"
    }
   ],
   "source": [
    "sns.displot(df, x='Dependants')"
   ]
  },
  {
   "cell_type": "code",
   "execution_count": 34,
   "id": "c27927bc",
   "metadata": {},
   "outputs": [
    {
     "data": {
      "text/plain": [
       "<seaborn.axisgrid.FacetGrid at 0x16a72a347c0>"
      ]
     },
     "execution_count": 34,
     "metadata": {},
     "output_type": "execute_result"
    },
    {
     "data": {
      "image/png": "[encoded data removed]",
      "text/plain": [
       "<Figure size 511.75x360 with 1 Axes>"
      ]
     },
     "metadata": {
      "needs_background": "light"
     },
     "output_type": "display_data"
    }
   ],
   "source": [
    "sns.displot(df, x='Age (Years)', hue='Marital Status')"
   ]
  },
  {
   "cell_type": "code",
   "execution_count": 37,
   "id": "7eebd4cd",
   "metadata": {},
   "outputs": [
    {
     "data": {
      "image/png": "[encoded data removed]",
      "text/plain": [
       "<Figure size 432x288 with 1 Axes>"
      ]
     },
     "metadata": {
      "needs_background": "light"
     },
     "output_type": "display_data"
    }
   ],
   "source": [
    "figure_obj = sns.histplot(x = age, bins = bins)\n",
    "figure_obj.get_figure().savefig('myfig.png')"
   ]
  },
  {
   "cell_type": "code",
   "execution_count": 38,
   "id": "fff09a9a",
   "metadata": {},
   "outputs": [
    {
     "data": {
      "text/plain": [
       "'C:\\\\Users\\\\Dell\\\\Downloads'"
      ]
     },
     "execution_count": 38,
     "metadata": {},
     "output_type": "execute_result"
    }
   ],
   "source": [
    "import os\n",
    "os.getcwd()"
   ]
  },
  {
   "cell_type": "code",
   "execution_count": null,
   "id": "79952927",
   "metadata": {},
   "outputs": [],
   "source": []
  }
 ],
 "metadata": {
  "kernelspec": {
   "display_name": "Python 3 (ipykernel)",
   "language": "python",
   "name": "python3"
  },
  "language_info": {
   "codemirror_mode": {
    "name": "ipython",
    "version": 3
   },
   "file_extension": ".py",
   "mimetype": "text/x-python",
   "name": "python",
   "nbconvert_exporter": "python",
   "pygments_lexer": "ipython3",
   "version": "3.10.0"
  }
 },
 "nbformat": 4,
 "nbformat_minor": 5
}
